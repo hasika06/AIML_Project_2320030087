{
  "cells": [
    {
      "cell_type": "markdown",
      "source": [
        "## N. Hasika\n",
        "## 2320030087\n",
        "## Section 4"
      ],
      "metadata": {
        "id": "ObwDEtGkPXUA"
      }
    },
    {
      "cell_type": "markdown",
      "source": [
        "Breadth First Search"
      ],
      "metadata": {
        "id": "0OskALUzE0fQ"
      }
    },
    {
      "cell_type": "code",
      "source": [
        "# BFS code:\n",
        "graph = {\n",
        "    '5': ['3', '7'],\n",
        "    '3': ['2', '4'],\n",
        "    '7': ['8'],\n",
        "    '2': [],\n",
        "    '4': ['8'],\n",
        "    '8': []\n",
        "}\n",
        "\n",
        "def bfs(visited, graph, node):\n",
        "    visited.append(node)\n",
        "    queue.append(node)\n",
        "\n",
        "    while queue:\n",
        "        m = queue.pop(0)\n",
        "        print(m, end=\" \")\n",
        "\n",
        "        for neighbour in graph[m]:\n",
        "            if neighbour not in visited:\n",
        "                visited.append(neighbour)\n",
        "                queue.append(neighbour)\n",
        "\n",
        "visited = []\n",
        "queue = []\n",
        "\n",
        "print(\"Graph using BFS:\")\n",
        "bfs(visited, graph, '5')\n"
      ],
      "metadata": {
        "colab": {
          "base_uri": "https://localhost:8080/"
        },
        "id": "f72pPDQoEdmk",
        "outputId": "832475b6-905a-449a-e88c-3a8f1efece03"
      },
      "execution_count": null,
      "outputs": [
        {
          "output_type": "stream",
          "name": "stdout",
          "text": [
            "Graph using BFS:\n",
            "5 3 7 2 4 8 "
          ]
        }
      ]
    },
    {
      "cell_type": "markdown",
      "source": [
        "Depth First Search"
      ],
      "metadata": {
        "id": "Q76-laZUE6rb"
      }
    },
    {
      "cell_type": "code",
      "source": [
        "# DFS code\n",
        "def dfs(visited, graph, node):\n",
        "    stack = []\n",
        "    stack.append(node)\n",
        "\n",
        "    while stack:\n",
        "        m = stack.pop()\n",
        "        if m not in visited:\n",
        "            print(m, end=\" \")\n",
        "            visited.append(m)\n",
        "\n",
        "        for neighbour in graph[m]:\n",
        "            if neighbour not in visited:\n",
        "                stack.append(neighbour)\n",
        "\n",
        "visited = []\n",
        "\n",
        "print(\"Graph using DFS:\")\n",
        "dfs(visited, graph, '5')\n"
      ],
      "metadata": {
        "colab": {
          "base_uri": "https://localhost:8080/"
        },
        "id": "iNsD0O5yE-ht",
        "outputId": "91e433ac-aea0-44fb-8c52-eb6b023c1578"
      },
      "execution_count": null,
      "outputs": [
        {
          "output_type": "stream",
          "name": "stdout",
          "text": [
            "Graph using DFS:\n",
            "5 7 8 3 4 2 "
          ]
        }
      ]
    },
    {
      "cell_type": "markdown",
      "source": [
        "Iterative Deepening Search"
      ],
      "metadata": {
        "id": "2OTIH5YcFHQB"
      }
    },
    {
      "cell_type": "code",
      "source": [
        "tree = {\n",
        "        'A': ['B', 'C'],\n",
        "        'B': ['D', 'E'],\n",
        "        'C': ['F', 'G'],\n",
        "        'D': [],\n",
        "        'E': [],\n",
        "        'F': [],\n",
        "        'G': []\n",
        "    }\n",
        "\n",
        "def depth_limited_search(node, goal, depth):\n",
        "    print(f\"Visiting Node: {node}, Depth: {depth}\")\n",
        "    if depth == 0 and node == goal:\n",
        "        return True\n",
        "    elif depth > 0:\n",
        "        for child in tree[node]:\n",
        "            if depth_limited_search(child, goal, depth - 1):\n",
        "                return True\n",
        "    return False\n",
        "\n",
        "def iterative_deepening_search(start, goal):\n",
        "    depth = 0\n",
        "    while True:\n",
        "        print(f\"Searching at depth: {depth}\")\n",
        "        if depth_limited_search(start, goal, depth):\n",
        "            return True\n",
        "        depth += 1\n",
        "\n",
        "found = iterative_deepening_search('A', 'G')\n",
        "print(f\"Goal {'found' if found else 'not found'}\")"
      ],
      "metadata": {
        "colab": {
          "base_uri": "https://localhost:8080/"
        },
        "id": "JXHvYIT0FMin",
        "outputId": "24b8b4b8-2335-41b6-9715-7f0e12d2322b"
      },
      "execution_count": null,
      "outputs": [
        {
          "output_type": "stream",
          "name": "stdout",
          "text": [
            "Searching at depth: 0\n",
            "Visiting Node: A, Depth: 0\n",
            "Searching at depth: 1\n",
            "Visiting Node: A, Depth: 1\n",
            "Visiting Node: B, Depth: 0\n",
            "Visiting Node: C, Depth: 0\n",
            "Searching at depth: 2\n",
            "Visiting Node: A, Depth: 2\n",
            "Visiting Node: B, Depth: 1\n",
            "Visiting Node: D, Depth: 0\n",
            "Visiting Node: E, Depth: 0\n",
            "Visiting Node: C, Depth: 1\n",
            "Visiting Node: F, Depth: 0\n",
            "Visiting Node: G, Depth: 0\n",
            "Goal found\n"
          ]
        }
      ]
    },
    {
      "cell_type": "markdown",
      "source": [
        "Bidirectional Search"
      ],
      "metadata": {
        "id": "o9xrNvZDSBnt"
      }
    },
    {
      "cell_type": "code",
      "source": [
        "from collections import deque\n",
        "\n",
        "def bidirectional_search(graph, start, goal):\n",
        "    frontier_start = deque([start])\n",
        "    frontier_goal = deque([goal])\n",
        "\n",
        "    visited_start = {start}\n",
        "    visited_goal = {goal}\n",
        "\n",
        "    parents_start = {start: None}\n",
        "    parents_goal = {goal: None}\n",
        "\n",
        "    while frontier_start and frontier_goal:\n",
        "        result = expand_frontier(graph, frontier_start, visited_start, visited_goal, parents_start)\n",
        "        if result:\n",
        "            return reconstruct_path(result, parents_start, parents_goal)\n",
        "\n",
        "        result = expand_frontier(graph, frontier_goal, visited_goal, visited_start, parents_goal)\n",
        "        if result:\n",
        "            return reconstruct_path(result, parents_start, parents_goal)\n",
        "\n",
        "    return None\n",
        "\n",
        "def expand_frontier(graph, frontier, visited_from_this_side, visited_from_other_side, parents):\n",
        "    current_node = frontier.popleft()\n",
        "\n",
        "    for neighbor in graph[current_node]:\n",
        "        if neighbor not in visited_from_this_side:\n",
        "            parents[neighbor] = current_node\n",
        "            visited_from_this_side.add(neighbor)\n",
        "            frontier.append(neighbor)\n",
        "\n",
        "            if neighbor in visited_from_other_side:\n",
        "                return neighbor\n",
        "    return None\n",
        "\n",
        "def reconstruct_path(meeting_node, parents_start, parents_goal):\n",
        "    path_start = []\n",
        "    node = meeting_node\n",
        "    while node is not None:\n",
        "        path_start.append(node)\n",
        "        node = parents_start[node]\n",
        "    path_start.reverse()\n",
        "\n",
        "    path_goal = []\n",
        "    node = parents_goal[meeting_node]\n",
        "    while node is not None:\n",
        "        path_goal.append(node)\n",
        "        node = parents_goal[node]\n",
        "\n",
        "    return path_start + path_goal\n",
        "\n",
        "graph = {\n",
        "    'A': ['B', 'C'],\n",
        "    'B': ['A', 'D', 'E'],\n",
        "    'C': ['A', 'F', 'G'],\n",
        "    'D': ['B'],\n",
        "    'E': ['B', 'H'],\n",
        "    'F': ['C'],\n",
        "    'G': ['C'],\n",
        "    'H': ['E', 'I'],\n",
        "    'I': ['H']\n",
        "}\n",
        "\n",
        "start = 'A'\n",
        "goal = 'I'\n",
        "path = bidirectional_search(graph, start, goal)\n",
        "\n",
        "if path:\n",
        "    print(f\"Path found: {path}\")\n",
        "else:\n",
        "    print(\"No path found\")\n"
      ],
      "metadata": {
        "colab": {
          "base_uri": "https://localhost:8080/"
        },
        "id": "dNFyNNF4SDjL",
        "outputId": "f0e5dfb7-0568-4295-d4d7-8a09df305514"
      },
      "execution_count": null,
      "outputs": [
        {
          "output_type": "stream",
          "name": "stdout",
          "text": [
            "Path found: ['A', 'B', 'E', 'H', 'I']\n"
          ]
        }
      ]
    },
    {
      "cell_type": "markdown",
      "source": [
        "Best-First Search"
      ],
      "metadata": {
        "id": "MaFxBGDTFPTI"
      }
    },
    {
      "cell_type": "code",
      "source": [
        "import heapq\n",
        "\n",
        "def best_first_search(graph, start, goal, h):\n",
        "    open_list = []\n",
        "    heapq.heappush(open_list, (h[start], start))\n",
        "    visited = set()\n",
        "\n",
        "    while open_list:\n",
        "        _, current_node = heapq.heappop(open_list)\n",
        "        print(current_node, end=\" \")\n",
        "\n",
        "        if current_node == goal:\n",
        "            print(\"\\nGoal reached!\")\n",
        "            return True\n",
        "\n",
        "        visited.add(current_node)\n",
        "\n",
        "        for neighbor, cost in graph[current_node]:\n",
        "            if neighbor not in visited:\n",
        "                heapq.heappush(open_list, (h[neighbor], neighbor))\n",
        "\n",
        "    print(\"\\nGoal not reachable!\")\n",
        "    return False\n",
        "\n",
        "# Example Usage:\n",
        "graph = {\n",
        "    'A': [('B', 1), ('C', 3)],\n",
        "    'B': [('D', 2), ('E', 5)],\n",
        "    'C': [('F', 2)],\n",
        "    'D': [],\n",
        "    'E': [('F', 1)],\n",
        "    'F': []\n",
        "}\n",
        "h = {'A': 6, 'B': 4, 'C': 5, 'D': 3, 'E': 2, 'F': 0}\n",
        "start = 'A'\n",
        "goal = 'F'\n",
        "\n",
        "best_first_search(graph, start, goal, h)\n"
      ],
      "metadata": {
        "colab": {
          "base_uri": "https://localhost:8080/"
        },
        "id": "XwEWpJBuFVbK",
        "outputId": "e5ca9e11-95f4-470e-8faa-7391a9ef5f10"
      },
      "execution_count": null,
      "outputs": [
        {
          "output_type": "stream",
          "name": "stdout",
          "text": [
            "A B E F \n",
            "Goal reached!\n"
          ]
        },
        {
          "output_type": "execute_result",
          "data": {
            "text/plain": [
              "True"
            ]
          },
          "metadata": {},
          "execution_count": 7
        }
      ]
    },
    {
      "cell_type": "markdown",
      "source": [
        "A* (A-Star) Algorithm"
      ],
      "metadata": {
        "id": "oJzNBnjtFhcn"
      }
    },
    {
      "cell_type": "code",
      "source": [
        "import heapq\n",
        "\n",
        "def a_star(graph, start, goal, h):\n",
        "    open_list = []\n",
        "    heapq.heappush(open_list, (0 + h[start], start))\n",
        "    g_costs = {start: 0}\n",
        "    visited = set()\n",
        "\n",
        "    while open_list:\n",
        "        _, current_node = heapq.heappop(open_list)\n",
        "        print(current_node, end=\" \")\n",
        "\n",
        "        if current_node == goal:\n",
        "            print(\"\\nGoal reached!\")\n",
        "            return True\n",
        "\n",
        "        visited.add(current_node)\n",
        "\n",
        "        for neighbor, cost in graph[current_node]:\n",
        "            new_g_cost = g_costs[current_node] + cost\n",
        "\n",
        "            if neighbor not in visited or new_g_cost < g_costs.get(neighbor, float('inf')):\n",
        "                g_costs[neighbor] = new_g_cost\n",
        "                f_cost = new_g_cost + h[neighbor]\n",
        "                heapq.heappush(open_list, (f_cost, neighbor))\n",
        "\n",
        "    print(\"\\nGoal not reachable!\")\n",
        "    return False\n",
        "\n",
        "# Example Usage:\n",
        "graph = {\n",
        "    'A': [('B', 1), ('C', 3)],\n",
        "    'B': [('D', 2), ('E', 5)],\n",
        "    'C': [('F', 2)],\n",
        "    'D': [],\n",
        "    'E': [('F', 1)],\n",
        "    'F': []\n",
        "}\n",
        "h = {'A': 6, 'B': 4, 'C': 5, 'D': 3, 'E': 2, 'F': 0}\n",
        "start = 'A'\n",
        "goal = 'F'\n",
        "\n",
        "a_star(graph, start, goal, h)\n"
      ],
      "metadata": {
        "colab": {
          "base_uri": "https://localhost:8080/"
        },
        "id": "W2EcqwqdFumN",
        "outputId": "27a4cd47-7210-407d-bdf7-af353383abe0"
      },
      "execution_count": null,
      "outputs": [
        {
          "output_type": "stream",
          "name": "stdout",
          "text": [
            "A B D C F \n",
            "Goal reached!\n"
          ]
        },
        {
          "output_type": "execute_result",
          "data": {
            "text/plain": [
              "True"
            ]
          },
          "metadata": {},
          "execution_count": 6
        }
      ]
    },
    {
      "cell_type": "markdown",
      "source": [
        "Simple Hill Climbing Algorithm"
      ],
      "metadata": {
        "id": "aX9i-BTWRTCf"
      }
    },
    {
      "cell_type": "code",
      "source": [
        "import random\n",
        "\n",
        "def hill_climbing(problem, initial_state):\n",
        "    current_state = initial_state\n",
        "    while True:\n",
        "        neighbors = problem.get_neighbors(current_state)\n",
        "        if not neighbors:\n",
        "            break\n",
        "\n",
        "        neighbor = max(neighbors, key=lambda state: problem.get_value(state))\n",
        "\n",
        "        if problem.get_value(neighbor) <= problem.get_value(current_state):\n",
        "            break\n",
        "\n",
        "        current_state = neighbor\n",
        "\n",
        "    return current_state\n",
        "\n",
        "class SimpleProblem:\n",
        "    def __init__(self):\n",
        "        self.state_space = [i for i in range(-10, 11)]\n",
        "\n",
        "    def get_value(self, state):\n",
        "        return -(state ** 2) + 10\n",
        "\n",
        "    def get_neighbors(self, state):\n",
        "        neighbors = []\n",
        "        if state - 1 in self.state_space:\n",
        "            neighbors.append(state - 1)\n",
        "        if state + 1 in self.state_space:\n",
        "            neighbors.append(state + 1)\n",
        "        return neighbors\n",
        "\n",
        "problem = SimpleProblem()\n",
        "initial_state = random.choice(problem.state_space)\n",
        "\n",
        "print(f\"Initial state: {initial_state}\")\n",
        "solution = hill_climbing(problem, initial_state)\n",
        "print(f\"Solution found: {solution} with value: {problem.get_value(solution)}\")\n"
      ],
      "metadata": {
        "colab": {
          "base_uri": "https://localhost:8080/"
        },
        "id": "jgJzUWKgRYXs",
        "outputId": "44ea1629-3e38-44a1-de93-c91dbd816167"
      },
      "execution_count": null,
      "outputs": [
        {
          "output_type": "stream",
          "name": "stdout",
          "text": [
            "Initial state: 6\n",
            "Solution found: 0 with value: 10\n"
          ]
        }
      ]
    },
    {
      "cell_type": "markdown",
      "source": [
        "Minimax Algorithm"
      ],
      "metadata": {
        "id": "cTlkfOqNF0Sy"
      }
    },
    {
      "cell_type": "code",
      "source": [
        "def minimax(depth, node_index, maximizing_player, values, alpha, beta):\n",
        "    if depth == 3:  # leaf node\n",
        "        return values[node_index]\n",
        "\n",
        "    if maximizing_player:\n",
        "        best = float('-inf')\n",
        "        for i in range(2):  # 2 children per node\n",
        "            val = minimax(depth + 1, node_index * 2 + i, False, values, alpha, beta)\n",
        "            best = max(best, val)\n",
        "            alpha = max(alpha, best)\n",
        "\n",
        "            if beta <= alpha:  # Pruning\n",
        "                break\n",
        "        return best\n",
        "    else:\n",
        "        best = float('inf')\n",
        "        for i in range(2):\n",
        "            val = minimax(depth + 1, node_index * 2 + i, True, values, alpha, beta)\n",
        "            best = min(best, val)\n",
        "            beta = min(beta, best)\n",
        "\n",
        "            if beta <= alpha:  # Pruning\n",
        "                break\n",
        "        return best\n",
        "\n",
        "# Example Usage (Tree represented as list of leaf values):\n",
        "values = [3, 5, 6, 9, 1, 2, 0, -1]\n",
        "print(\"Optimal value:\", minimax(0, 0, True, values, float('-inf'), float('inf')))\n"
      ],
      "metadata": {
        "colab": {
          "base_uri": "https://localhost:8080/"
        },
        "id": "zKkMXFqzF4wr",
        "outputId": "7becf97c-7ff3-4c43-8e6f-bcfd11e3ded3"
      },
      "execution_count": null,
      "outputs": [
        {
          "output_type": "stream",
          "name": "stdout",
          "text": [
            "Optimal value: 5\n"
          ]
        }
      ]
    },
    {
      "cell_type": "markdown",
      "source": [
        "Alpha-Beta Pruning"
      ],
      "metadata": {
        "id": "g2uFtStQF57U"
      }
    },
    {
      "cell_type": "code",
      "source": [
        "def alpha_beta(depth, node_index, maximizing_player, values, alpha, beta):\n",
        "    if depth == 3:  # leaf node\n",
        "        return values[node_index]\n",
        "\n",
        "    if maximizing_player:\n",
        "        best = float('-inf')\n",
        "        for i in range(2):  # 2 children per node\n",
        "            val = alpha_beta(depth + 1, node_index * 2 + i, False, values, alpha, beta)\n",
        "            best = max(best, val)\n",
        "            alpha = max(alpha, best)\n",
        "\n",
        "            if beta <= alpha:  # Pruning\n",
        "                break\n",
        "        return best\n",
        "    else:\n",
        "        best = float('inf')\n",
        "        for i in range(2):\n",
        "            val = alpha_beta(depth + 1, node_index * 2 + i, True, values, alpha, beta)\n",
        "            best = min(best, val)\n",
        "            beta = min(beta, best)\n",
        "\n",
        "            if beta <= alpha:  # Pruning\n",
        "                break\n",
        "        return best\n",
        "\n",
        "# Example Usage (Tree represented as list of leaf values):\n",
        "values = [3, 5, 6, 9, 1, 2, 0, -1]\n",
        "print(\"Optimal value:\", alpha_beta(0, 0, True, values, float('-inf'), float('inf')))\n"
      ],
      "metadata": {
        "colab": {
          "base_uri": "https://localhost:8080/"
        },
        "id": "_ivjMFr_F8sM",
        "outputId": "889b5713-5c6d-49d5-dcd4-6d28150dab2f"
      },
      "execution_count": null,
      "outputs": [
        {
          "output_type": "stream",
          "name": "stdout",
          "text": [
            "Optimal value: 5\n"
          ]
        }
      ]
    }
  ],
  "metadata": {
    "colab": {
      "toc_visible": true,
      "provenance": []
    },
    "kernelspec": {
      "display_name": "Python 3",
      "name": "python3"
    }
  },
  "nbformat": 4,
  "nbformat_minor": 0
}